{
  "nbformat": 4,
  "nbformat_minor": 0,
  "metadata": {
    "colab": {
      "name": "Untitled0.ipynb",
      "version": "0.3.2",
      "provenance": [],
      "collapsed_sections": [],
      "include_colab_link": true
    },
    "kernelspec": {
      "name": "python3",
      "display_name": "Python 3"
    },
    "accelerator": "GPU"
  },
  "cells": [
    {
      "cell_type": "markdown",
      "metadata": {
        "id": "view-in-github",
        "colab_type": "text"
      },
      "source": [
        "<a href=\"https://colab.research.google.com/github/mariXna/projectS/blob/master/Untitled0.ipynb\" target=\"_parent\"><img src=\"https://colab.research.google.com/assets/colab-badge.svg\" alt=\"Open In Colab\"/></a>"
      ]
    },
    {
      "metadata": {
        "id": "9vOB383f5wdZ",
        "colab_type": "code",
        "colab": {}
      },
      "cell_type": "code",
      "source": [
        "import matplotlib.pyplot as plt \n",
        "import seaborn as sns \n",
        "import pandas as pd \n",
        "import numpy as np \n",
        "import matplotlib \n",
        "import csv\n",
        "\n",
        "from sklearn import datasets\n",
        "\n",
        "sns.set(style=\"darkgrid\")\n",
        "\n",
        "%matplotlib inline"
      ],
      "execution_count": 0,
      "outputs": []
    },
    {
      "metadata": {
        "id": "NdLp91FWr3-Y",
        "colab_type": "code",
        "colab": {
          "base_uri": "https://localhost:8080/",
          "height": 132
        },
        "outputId": "7fd8c665-a41a-448b-d130-a9000d4b5280"
      },
      "cell_type": "code",
      "source": [
        "\n",
        "data = []\n",
        "\n",
        "# Read the training data\n",
        "f = open('spambase/spambase.data')\n",
        "print(f)\n",
        "reader = csv.reader(f)\n",
        "next(reader, None)\n",
        "for row in reader:\n",
        "   data.append(row)\n",
        "f.close()\n",
        "X = np.array([x[:-1] for x in data]).astype(np.float)\n",
        "y = np.array([x[-1] for x in data]).astype(np.float)\n",
        "del data # free up the memory\n",
        "\n",
        "   \n",
        "return X, y\n"
      ],
      "execution_count": 135,
      "outputs": [
        {
          "output_type": "error",
          "ename": "SyntaxError",
          "evalue": "ignored",
          "traceback": [
            "\u001b[0;36m  File \u001b[0;32m\"<ipython-input-135-028ef0d674f7>\"\u001b[0;36m, line \u001b[0;32m1\u001b[0m\n\u001b[0;31m    mkdir spambase\u001b[0m\n\u001b[0m                 ^\u001b[0m\n\u001b[0;31mSyntaxError\u001b[0m\u001b[0;31m:\u001b[0m invalid syntax\n"
          ]
        }
      ]
    }
  ]
}